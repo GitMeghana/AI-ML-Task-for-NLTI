{
  "nbformat": 4,
  "nbformat_minor": 0,
  "metadata": {
    "colab": {
      "provenance": []
    },
    "kernelspec": {
      "name": "python3",
      "display_name": "Python 3"
    },
    "language_info": {
      "name": "python"
    }
  },
  "cells": [
    {
      "cell_type": "markdown",
      "source": [
        "\n",
        "Step 1: Install Required Libraries\n"
      ],
      "metadata": {
        "id": "DLj5w5CJKK5J"
      }
    },
    {
      "cell_type": "code",
      "source": [
        "!pip install -q spacy nltk\n",
        "import spacy\n",
        "import nltk\n",
        "nltk.download('punkt')\n"
      ],
      "metadata": {
        "colab": {
          "base_uri": "https://localhost:8080/"
        },
        "id": "6lYAuIPjErjA",
        "outputId": "57f0b9e1-213a-461f-ab1f-8588482f7a6e"
      },
      "execution_count": 65,
      "outputs": [
        {
          "output_type": "stream",
          "name": "stderr",
          "text": [
            "[nltk_data] Downloading package punkt to /root/nltk_data...\n",
            "[nltk_data]   Package punkt is already up-to-date!\n"
          ]
        },
        {
          "output_type": "execute_result",
          "data": {
            "text/plain": [
              "True"
            ]
          },
          "metadata": {},
          "execution_count": 65
        }
      ]
    },
    {
      "cell_type": "markdown",
      "source": [
        "step 2 : Load the spaCy English language model:"
      ],
      "metadata": {
        "id": "fYBTr9y9KcHC"
      }
    },
    {
      "cell_type": "code",
      "source": [
        "nlp = spacy.load(\"en_core_web_sm\")\n"
      ],
      "metadata": {
        "id": "hsJY9RxXEtTl"
      },
      "execution_count": 67,
      "outputs": []
    },
    {
      "cell_type": "markdown",
      "source": [
        " Step 3: Load the JSON Data"
      ],
      "metadata": {
        "id": "z3aIpx0FKl26"
      }
    },
    {
      "cell_type": "code",
      "source": [
        "import json\n",
        "\n",
        "with open('/clat_data.json', 'r') as f:\n",
        "    clat_data = json.load(f)\n"
      ],
      "metadata": {
        "id": "hfAtEZJkJNm-"
      },
      "execution_count": 69,
      "outputs": []
    },
    {
      "cell_type": "markdown",
      "source": [
        "Step 4: Preprocessing Function (Using spaCy)"
      ],
      "metadata": {
        "id": "RaxXPIVJKmsq"
      }
    },
    {
      "cell_type": "code",
      "source": [
        "def preprocess(text):\n",
        "    doc = nlp(text.lower())\n",
        "    return [token.lemma_ for token in doc if not token.is_stop and token.is_alpha]\n"
      ],
      "metadata": {
        "id": "CWk1Y-iXJVf8"
      },
      "execution_count": 70,
      "outputs": []
    },
    {
      "cell_type": "markdown",
      "source": [
        "Step 5: Define Smart Chatbot Answer Function"
      ],
      "metadata": {
        "id": "bMM1TAFkKpKy"
      }
    },
    {
      "cell_type": "code",
      "source": [
        "def smart_answer_query(query):\n",
        "    keywords = preprocess(query)\n",
        "    for q, a in clat_data[\"faqs\"].items():\n",
        "        if any(word in preprocess(q) for word in keywords):\n",
        "            return a\n",
        "    for section, info in clat_data[\"syllabus\"].items():\n",
        "        if any(word in preprocess(section) for word in keywords):\n",
        "            return f\"{section}: {info}\"\n",
        "    for key, value in clat_data[\"exam_format\"].items():\n",
        "        if any(word in preprocess(key.replace('_', ' ')) for word in keywords):\n",
        "            return f\"{key.replace('_', ' ').title()}: {value}\"\n",
        "    for college, cutoff in clat_data[\"cutoff\"].items():\n",
        "        if all(word in college.lower() for word in keywords if len(word) > 3):\n",
        "            return f\"{college}: {cutoff}\"\n",
        "\n",
        "    return \"Sorry, I couldn't find an answer. Try rephrasing your question!\"\n"
      ],
      "metadata": {
        "id": "EpHMU0sSJXls"
      },
      "execution_count": 72,
      "outputs": []
    },
    {
      "cell_type": "markdown",
      "source": [
        "Step 6: Interactive Chat Loop"
      ],
      "metadata": {
        "id": "jbhMEt5CKr5K"
      }
    },
    {
      "cell_type": "code",
      "source": [
        "while True:\n",
        "    user_input = input(\"Ask a CLAT question (or type 'exit' to quit): \")\n",
        "    if user_input.lower() == 'exit':\n",
        "        print(\"Chatbot: Goodbye!\")\n",
        "        break\n",
        "    response = smart_answer_query(user_input)\n",
        "    print(\"Chatbot:\", response)\n"
      ],
      "metadata": {
        "colab": {
          "base_uri": "https://localhost:8080/"
        },
        "id": "mRzFztKXJfjI",
        "outputId": "1e4bf69b-b176-42fa-865e-fdfbc8a03fcd"
      },
      "execution_count": 73,
      "outputs": [
        {
          "output_type": "stream",
          "name": "stdout",
          "text": [
            "Ask a CLAT question (or type 'exit' to quit): How many CLAT Questions \n",
            "Chatbot: The Common Law Admission Test (CLAT) is a national-level entrance exam for admissions to undergraduate and postgraduate law programs at NLUs.\n",
            "Ask a CLAT question (or type 'exit' to quit): How much time to attempt\n",
            "Chatbot: You can attempt CLAT any number of times.\n",
            "Ask a CLAT question (or type 'exit' to quit): negative marking \n",
            "Chatbot: Each correct answer fetches 1 mark, while each incorrect response results in a deduction of 0.25 marks.\n",
            "Ask a CLAT question (or type 'exit' to quit): how i should prepare\n",
            "Chatbot: Read newspapers daily, practice mock tests, and revise legal principles.\n",
            "Ask a CLAT question (or type 'exit' to quit): quit\n",
            "Chatbot: Sorry, I couldn't find an answer. Try rephrasing your question!\n",
            "Ask a CLAT question (or type 'exit' to quit): exit\n",
            "Chatbot: Goodbye!\n"
          ]
        }
      ]
    }
  ]
}
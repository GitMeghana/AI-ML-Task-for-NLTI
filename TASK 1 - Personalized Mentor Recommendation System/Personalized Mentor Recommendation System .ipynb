{
  "nbformat": 4,
  "nbformat_minor": 0,
  "metadata": {
    "colab": {
      "provenance": []
    },
    "kernelspec": {
      "name": "python3",
      "display_name": "Python 3"
    },
    "language_info": {
      "name": "python"
    }
  },
  "cells": [
    {
      "cell_type": "markdown",
      "source": [
        "## Step 1: Import Required Libraries\n",
        "\n",
        "We begin by importing the necessary Python libraries:\n",
        "\n",
        "- `pandas` for handling and organizing data in DataFrames.\n",
        "- `random` to help randomly generate mock data for aspirants and mentors.\n"
      ],
      "metadata": {
        "id": "aimgcmGt7zkT"
      }
    },
    {
      "cell_type": "code",
      "source": [
        "import pandas as pd\n",
        "import random"
      ],
      "metadata": {
        "id": "bGng763P6CWG"
      },
      "execution_count": null,
      "outputs": []
    },
    {
      "cell_type": "markdown",
      "source": [
        "## Step 2: Generate Mock Data for Aspirants and Mentors\n",
        "\n",
        "We create sample profiles for both aspirants and mentors:\n",
        "\n",
        "- Define lists of possible subjects, colleges, learning styles, and teaching styles.\n",
        "- Generate:\n",
        "  - 300 **aspirant profiles** with random combinations of preferred subjects, target colleges, and learning styles.\n",
        "  - 300 **mentor profiles** with random combinations of expertise, alma maters, and teaching styles.\n",
        "\n",
        "This mock data simulates realistic inputs to train and test the recommendation system.\n"
      ],
      "metadata": {
        "id": "hzV9g8U479_l"
      }
    },
    {
      "cell_type": "code",
      "source": [
        "subjects = [\"Constitution\", \"Contracts\", \"Torts\", \"Property\", \"Criminal\", \"Evidence\", \"Administrative Law\", \"International Law\"]\n",
        "colleges = [\"NLSIU\", \"NLU Delhi\", \"NUJS\", \"NLU Jodhpur\", \"NLU Bangalore\"]\n",
        "learning_styles = [\"Self-paced\", \"Structured\", \"Interactive\"]\n",
        "teaching_styles = [\"Structured\", \"Interactive\", \"Self-paced\"]\n",
        "\n",
        "aspirants_data = {\n",
        "    \"Aspirant\": [f\"Aspirant {i+1}\" for i in range(300)],\n",
        "    \"Preferred Subjects\": [\", \".join(random.sample(subjects, 2)) for _ in range(300)],\n",
        "    \"Target College\": [random.choice(colleges) for _ in range(300)],\n",
        "    \"Learning Style\": [random.choice(learning_styles) for _ in range(300)]\n",
        "}\n",
        "\n",
        "mentors_data = {\n",
        "    \"Mentor\": [f\"Mentor {i+1}\" for i in range(300)],\n",
        "    \"Expertise\": [\", \".join(random.sample(subjects, 2)) for _ in range(300)],\n",
        "    \"College\": [random.choice(colleges) for _ in range(300)],\n",
        "    \"Teaching Style\": [random.choice(teaching_styles) for _ in range(300)]\n",
        "}"
      ],
      "metadata": {
        "id": "nK2v1d_h6KKi"
      },
      "execution_count": null,
      "outputs": []
    },
    {
      "cell_type": "markdown",
      "source": [
        "## Step 3: Convert to DataFrames and Save as CSV\n",
        "\n",
        "We now convert the aspirants and mentors data into `pandas` DataFrames.  \n",
        "Then, we save these DataFrames as CSV files (`aspirants_data.csv` and `mentors_data.csv`) for future use.\n",
        "\n",
        "This allows us to easily inspect, load, or share the data later.\n"
      ],
      "metadata": {
        "id": "RW_JuaqN8ILp"
      }
    },
    {
      "cell_type": "code",
      "source": [
        "aspirants_df = pd.DataFrame(aspirants_data)\n",
        "mentors_df = pd.DataFrame(mentors_data)\n",
        "\n",
        "aspirants_df.to_csv(\"aspirants_data.csv\", index=False)\n",
        "mentors_df.to_csv(\"mentors_data.csv\", index=False)"
      ],
      "metadata": {
        "id": "C9z4ERQL6N_F"
      },
      "execution_count": null,
      "outputs": []
    },
    {
      "cell_type": "markdown",
      "source": [
        "## Step 4: Preview Aspirants Data\n",
        "\n",
        "To verify that the mock data was generated correctly, we display the first few rows of the aspirants DataFrame using `.head()`.\n"
      ],
      "metadata": {
        "id": "ua6sxW_o8P2u"
      }
    },
    {
      "cell_type": "code",
      "source": [
        "print(aspirants_df.head())\n"
      ],
      "metadata": {
        "colab": {
          "base_uri": "https://localhost:8080/"
        },
        "id": "VxjtvD786S4K",
        "outputId": "b23673ef-e1ba-4dce-bd8a-9a28cacf0bf9"
      },
      "execution_count": null,
      "outputs": [
        {
          "output_type": "stream",
          "name": "stdout",
          "text": [
            "     Aspirant               Preferred Subjects Target College Learning Style\n",
            "0  Aspirant 1           Constitution, Evidence          NLSIU     Structured\n",
            "1  Aspirant 2           Evidence, Constitution      NLU Delhi     Self-paced\n",
            "2  Aspirant 3                  Torts, Property  NLU Bangalore     Structured\n",
            "3  Aspirant 4  International Law, Constitution      NLU Delhi    Interactive\n",
            "4  Aspirant 5           Evidence, Constitution    NLU Jodhpur    Interactive\n"
          ]
        }
      ]
    },
    {
      "cell_type": "markdown",
      "source": [
        "## Step 5: Preview Mentorss Data\n",
        "\n",
        "To verify that the mock data was generated correctly, we display the first few rows of the mentors DataFrame using `.head()`.\n"
      ],
      "metadata": {
        "id": "tsWdny4G8Uet"
      }
    },
    {
      "cell_type": "code",
      "source": [
        "print(mentors_df.head())"
      ],
      "metadata": {
        "colab": {
          "base_uri": "https://localhost:8080/"
        },
        "id": "Uj93E2kO6Vz3",
        "outputId": "dbaa61d7-eb04-4338-bb05-f4f4a722cd7b"
      },
      "execution_count": null,
      "outputs": [
        {
          "output_type": "stream",
          "name": "stdout",
          "text": [
            "     Mentor                    Expertise        College Teaching Style\n",
            "0  Mentor 1  Property, International Law           NUJS     Structured\n",
            "1  Mentor 2           Evidence, Criminal    NLU Jodhpur     Structured\n",
            "2  Mentor 3           Property, Criminal      NLU Delhi     Structured\n",
            "3  Mentor 4             Torts, Contracts  NLU Bangalore     Structured\n",
            "4  Mentor 5           Criminal, Property          NLSIU     Structured\n"
          ]
        }
      ]
    },
    {
      "cell_type": "markdown",
      "source": [
        "## Step 6: Feature Extraction with TF-IDF\n",
        "\n",
        "To match aspirants with mentors based on subjects, we convert their text data into numerical features using **TF-IDF (Term Frequency-Inverse Document Frequency)**.\n",
        "\n",
        "- `TfidfVectorizer` transforms the \"Preferred Subjects\" of aspirants into feature vectors.\n",
        "- We use the same vectorizer to transform the mentors' \"Expertise\" fields, ensuring both are in the same vector space.\n"
      ],
      "metadata": {
        "id": "zCVhQb9i8gbE"
      }
    },
    {
      "cell_type": "code",
      "source": [
        "from sklearn.feature_extraction.text import TfidfVectorizer\n",
        "\n",
        "vectorizer = TfidfVectorizer()\n",
        "aspirant_features = vectorizer.fit_transform(aspirants_df[\"Preferred Subjects\"])\n",
        "mentor_features = vectorizer.transform(mentors_df[\"Expertise\"])\n"
      ],
      "metadata": {
        "id": "47f-Tsj56ZMb"
      },
      "execution_count": null,
      "outputs": []
    },
    {
      "cell_type": "markdown",
      "source": [
        "## Step 7: Recommend Mentors Using Cosine Similarity\n",
        "\n",
        "We now compute the similarity between aspirants and mentors based on their subject preferences:\n",
        "\n",
        "- **Cosine similarity** is used to measure how similar each aspirant is to each mentor.\n",
        "- For each aspirant, we find the **top 5 most similar mentors**.\n",
        "- We extract and display the matching mentors' details for the first aspirant as a sample.\n"
      ],
      "metadata": {
        "id": "bbIexQnu8lZD"
      }
    },
    {
      "cell_type": "code",
      "source": [
        "from sklearn.metrics.pairwise import cosine_similarity\n",
        "\n",
        "similarity_scores = cosine_similarity(aspirant_features, mentor_features)\n",
        "top_3_mentors_indices = similarity_scores.argsort(axis=1)[:, -5:]\n",
        "top_3_mentors = [mentors_df.iloc[idx].reset_index(drop=True) for idx in top_3_mentors_indices]\n",
        "\n",
        "print(top_3_mentors[0])\n"
      ],
      "metadata": {
        "colab": {
          "base_uri": "https://localhost:8080/"
        },
        "id": "hw8m148K6coq",
        "outputId": "3f8a8e27-6736-418b-8c5b-4ee063fd6ed4"
      },
      "execution_count": null,
      "outputs": [
        {
          "output_type": "stream",
          "name": "stdout",
          "text": [
            "       Mentor               Expertise        College Teaching Style\n",
            "0  Mentor 118  Evidence, Constitution    NLU Jodhpur    Interactive\n",
            "1   Mentor 89  Constitution, Evidence    NLU Jodhpur    Interactive\n",
            "2   Mentor 98  Constitution, Evidence           NUJS     Self-paced\n",
            "3   Mentor 92  Constitution, Evidence  NLU Bangalore    Interactive\n",
            "4   Mentor 41  Constitution, Evidence          NLSIU     Self-paced\n"
          ]
        }
      ]
    },
    {
      "cell_type": "markdown",
      "source": [
        "## Step 8: Incorporate Feedback to Adjust Feature Weights\n",
        "\n",
        "We simulate a feedback system to fine-tune the recommendation engine:\n",
        "\n",
        "- A small **feedback dataset** includes ratings and comments from aspirants about their matched mentors.\n",
        "- We calculate the **average rating** from this feedback.\n",
        "- Based on the average:\n",
        "  - If the rating is high, we give more weight to subject matching.\n",
        "  - If the rating is low, we increase weight on learning style to try and improve personalization.\n",
        "\n",
        "This simple logic can evolve into a more robust learning loop using real-time user data.\n"
      ],
      "metadata": {
        "id": "NwCXi7os8rob"
      }
    },
    {
      "cell_type": "code",
      "source": [
        "feedback_data = {\n",
        "    \"Aspirant\": [\"Aspirant 1\", \"Aspirant 2\", \"Aspirant 3\"],\n",
        "    \"Mentor Selected\": [\"Mentor A\", \"Mentor B\", \"Mentor C\"],\n",
        "    \"Rating\": [4.5, 3.8, 5.0],\n",
        "    \"Feedback\": [\"Very insightful\", \"Helpful but needs better explanation\", \"Excellent guidance\"]\n",
        "}\n",
        "\n",
        "feedback_df = pd.DataFrame(feedback_data)\n",
        "\n",
        "feature_weights = {\n",
        "    \"Subjects\": 0.4,\n",
        "    \"Target College\": 0.3,\n",
        "    \"Learning Style\": 0.3\n",
        "}\n",
        "\n",
        "average_rating = np.mean(feedback_df[\"Rating\"])\n",
        "\n",
        "if average_rating > 4.0:\n",
        "    feature_weights[\"Subjects\"] += 0.1\n",
        "elif average_rating < 3.0:\n",
        "    feature_weights[\"Learning Style\"] += 0.1\n",
        "\n",
        "print(\"Updated Feature Weights:\", feature_weights)\n"
      ],
      "metadata": {
        "colab": {
          "base_uri": "https://localhost:8080/"
        },
        "id": "UKMEagjP6f0A",
        "outputId": "50f36943-707e-4d0b-d43b-07b2ffae0d61"
      },
      "execution_count": null,
      "outputs": [
        {
          "output_type": "stream",
          "name": "stdout",
          "text": [
            "Updated Feature Weights: {'Subjects': 0.5, 'Target College': 0.3, 'Learning Style': 0.3}\n"
          ]
        }
      ]
    }
  ]
}